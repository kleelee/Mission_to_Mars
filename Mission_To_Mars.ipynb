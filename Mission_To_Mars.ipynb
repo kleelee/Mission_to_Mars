{
 "cells": [
  {
   "cell_type": "code",
   "execution_count": 1,
   "metadata": {},
   "outputs": [],
   "source": [
    "#Scrape https://mars.nasa.gov/news/ and collect the latest \n",
    "#News Title and Paragraph Text. Assign the text to variables that you can reference later\n",
    "\n",
    "# Example:\n",
    "#news_title = \"NASA's Next Mars Mission to Investigate Interior of Red Planet\"\n",
    "\n",
    "#news_p = \"Preparation of NASA's next spacecraft to Mars, InSight, has ramped up this summer, on course for launch next May from Vandenberg Air Force Base in central California -- the first interplanetary launch in history from America's West Coast.\"\n"
   ]
  },
  {
   "cell_type": "code",
   "execution_count": 1,
   "metadata": {},
   "outputs": [],
   "source": [
    "from splinter import Browser\n",
    "from bs4 import BeautifulSoup as bs\n",
    "import time\n",
    "import pandas as pd"
   ]
  },
  {
   "cell_type": "code",
   "execution_count": 2,
   "metadata": {},
   "outputs": [],
   "source": [
    "def init_browser():\n",
    "    executable_path = {\"executable_path\": \"chromedriver.exe\"}\n",
    "    return Browser(\"chrome\", **executable_path, headless=False)\n"
   ]
  },
  {
   "cell_type": "code",
   "execution_count": 24,
   "metadata": {},
   "outputs": [
    {
     "name": "stdout",
     "output_type": "stream",
     "text": [
      "Title: NASA Hears MarCO CubeSats Loud and Clear from Mars \n",
      "-------------------------------------------------\n",
      "Content: A pair of tiny, experimental spacecraft fulfilled their mission yesterday, relaying back near-real-time data during InSight's landing.\n",
      "{'article_title': 'NASA Hears MarCO CubeSats Loud and Clear from Mars ', 'article_content': \"A pair of tiny, experimental spacecraft fulfilled their mission yesterday, relaying back near-real-time data during InSight's landing.\"}\n"
     ]
    }
   ],
   "source": [
    "\n",
    "\n",
    "\n",
    "\n",
    "browser = init_browser()\n",
    "url = \"https://mars.nasa.gov/news/\"\n",
    "browser.visit(url)\n",
    "time.sleep(1)\n",
    "# Scrape page into Soup\n",
    "html = browser.html\n",
    "soup = bs(html, \"html.parser\")\n",
    "\n",
    "# Get the article\n",
    "article = soup.find('div', class_='list_text')\n",
    "\n",
    "# Get the article title\n",
    "title = article.find('a').text\n",
    "print(f\"Title: {title}\")\n",
    "print(\"-------------------------------------------------\")\n",
    "# Get the article content\n",
    "content = article.find('div', class_='article_teaser_body').text\n",
    "print(f\"Content: {content}\")\n",
    "\n",
    "# Store data in a dictionary\n",
    "article_data = {\n",
    "    \"article_title\": title,\n",
    "    \"article_content\": content\n",
    "}\n",
    "\n",
    "# Close the browser after scraping\n",
    "browser.quit()\n",
    "\n",
    "# Return results\n",
    "print (article_data)\n"
   ]
  },
  {
   "cell_type": "code",
   "execution_count": null,
   "metadata": {},
   "outputs": [],
   "source": []
  },
  {
   "cell_type": "code",
   "execution_count": 26,
   "metadata": {},
   "outputs": [
    {
     "name": "stdout",
     "output_type": "stream",
     "text": [
      "https://www.jpl.nasa.gov/spaceimages/images/wallpaper/PIA17550-1920x1200.jpg\n"
     ]
    }
   ],
   "source": [
    "#(https://www.jpl.nasa.gov/spaceimages/?search=&category=Mars).\n",
    "#* Use splinter to navigate the site and find the image url for the current Featured Mars Image and assign the url string to a variable called `featured_image_url`.\n",
    "#* Make sure to find the image url to the full size `.jpg` image.\n",
    "#* Make sure to save a complete url string for this image.\n",
    "\n",
    "#browser = init_browser()\n",
    " \n",
    "url = \"https://www.jpl.nasa.gov/spaceimages/?search=&category=Mars\"\n",
    "browser.visit(url)\n",
    "\n",
    "time.sleep(1)\n",
    "\n",
    "    # Scrape page into Soup\n",
    "html = browser.html\n",
    "soup = bs(html, \"html.parser\") \n",
    "\n",
    "article = soup.find('div', class_='carousel_items')\n",
    "#print(article)\n",
    "\n",
    "\n",
    "getting_image1 = article.find('article', class_='carousel_item')['style']\n",
    "\n",
    "\n",
    "featured_image_url = \"https://www.jpl.nasa.gov\" + getting_image1.split(\"'\")[1]\n",
    "\n",
    "\n",
    "print (featured_image_url)\n",
    "    \n",
    "    "
   ]
  },
  {
   "cell_type": "code",
   "execution_count": null,
   "metadata": {},
   "outputs": [],
   "source": [
    "### Mars Weather"
   ]
  },
  {
   "cell_type": "code",
   "execution_count": 6,
   "metadata": {},
   "outputs": [
    {
     "name": "stdout",
     "output_type": "stream",
     "text": [
      "\n",
      "Sol 2240 (2018-11-24), high 0C/32F, low -70C/-93F, pressure at 8.49 hPa, daylight 06:28-18:44\n",
      "\n"
     ]
    }
   ],
   "source": [
    "\n",
    "\n",
    "url = \"https://twitter.com/marswxreport?lang=en\"\n",
    "#browser = init_browser()\n",
    "browser.visit(url)\n",
    "\n",
    "time.sleep(1)\n",
    "\n",
    "    # Scrape page into Soup\n",
    "html = browser.html\n",
    "soup = bs(html, \"html.parser\") \n",
    "mars_weather = article = soup.find('div', class_='js-tweet-text-container').text\n",
    "#browser.quit()\n",
    "print(mars_weather)\n"
   ]
  },
  {
   "cell_type": "code",
   "execution_count": 25,
   "metadata": {},
   "outputs": [],
   "source": [
    "### Mars Facts"
   ]
  },
  {
   "cell_type": "code",
   "execution_count": 5,
   "metadata": {},
   "outputs": [
    {
     "data": {
      "text/html": [
       "<div>\n",
       "<style scoped>\n",
       "    .dataframe tbody tr th:only-of-type {\n",
       "        vertical-align: middle;\n",
       "    }\n",
       "\n",
       "    .dataframe tbody tr th {\n",
       "        vertical-align: top;\n",
       "    }\n",
       "\n",
       "    .dataframe thead th {\n",
       "        text-align: right;\n",
       "    }\n",
       "</style>\n",
       "<table border=\"1\" class=\"dataframe\">\n",
       "  <thead>\n",
       "    <tr style=\"text-align: right;\">\n",
       "      <th></th>\n",
       "      <th>col1</th>\n",
       "      <th>col2</th>\n",
       "    </tr>\n",
       "  </thead>\n",
       "  <tbody>\n",
       "    <tr>\n",
       "      <th>0</th>\n",
       "      <td>Equatorial Diameter:</td>\n",
       "      <td>6,792 km\\n</td>\n",
       "    </tr>\n",
       "    <tr>\n",
       "      <th>1</th>\n",
       "      <td>Polar Diameter:</td>\n",
       "      <td>6,752 km\\n</td>\n",
       "    </tr>\n",
       "    <tr>\n",
       "      <th>2</th>\n",
       "      <td>Mass:</td>\n",
       "      <td>6.42 x 10^23 kg (10.7% Earth)</td>\n",
       "    </tr>\n",
       "    <tr>\n",
       "      <th>3</th>\n",
       "      <td>Moons:</td>\n",
       "      <td>2 (Phobos &amp; Deimos)</td>\n",
       "    </tr>\n",
       "    <tr>\n",
       "      <th>4</th>\n",
       "      <td>Orbit Distance:</td>\n",
       "      <td>227,943,824 km (1.52 AU)</td>\n",
       "    </tr>\n",
       "  </tbody>\n",
       "</table>\n",
       "</div>"
      ],
      "text/plain": [
       "                   col1                           col2\n",
       "0  Equatorial Diameter:                     6,792 km\\n\n",
       "1       Polar Diameter:                     6,752 km\\n\n",
       "2                 Mass:  6.42 x 10^23 kg (10.7% Earth)\n",
       "3                Moons:            2 (Phobos & Deimos)\n",
       "4       Orbit Distance:       227,943,824 km (1.52 AU)"
      ]
     },
     "execution_count": 5,
     "metadata": {},
     "output_type": "execute_result"
    }
   ],
   "source": [
    "url = \"http://space-facts.com/mars/\"\n",
    "browser = init_browser()\n",
    "browser.visit(url)\n",
    "\n",
    "time.sleep(1)\n",
    "\n",
    "    # Scrape page into Soup\n",
    "html = browser.html\n",
    "soup = bs(html, \"html.parser\") \n",
    "\n",
    "table = soup.find('table', class_='tablepress tablepress-id-mars')\n",
    "l = []\n",
    "td1 = table.find_all('td', class_=\"column-1\")\n",
    "td2 = table.find_all('td', class_=\"column-2\")\n",
    "col1 = [x.text for x in td1]\n",
    "col2 = [x.text for x in td2]\n",
    "browser.quit()\n",
    "d = {\"col1\": col1, 'col2': col2}\n",
    "df = pd.DataFrame(d)\n",
    "df.rename(columns={\"col1\": \"\", \"col2\": Value})\n",
    "df.head()\n",
    "\n",
    "\n"
   ]
  },
  {
   "cell_type": "code",
   "execution_count": 8,
   "metadata": {},
   "outputs": [
    {
     "data": {
      "text/html": [
       "<div>\n",
       "<style scoped>\n",
       "    .dataframe tbody tr th:only-of-type {\n",
       "        vertical-align: middle;\n",
       "    }\n",
       "\n",
       "    .dataframe tbody tr th {\n",
       "        vertical-align: top;\n",
       "    }\n",
       "\n",
       "    .dataframe thead th {\n",
       "        text-align: right;\n",
       "    }\n",
       "</style>\n",
       "<table border=\"1\" class=\"dataframe\">\n",
       "  <thead>\n",
       "    <tr style=\"text-align: right;\">\n",
       "      <th></th>\n",
       "      <th></th>\n",
       "      <th>Value</th>\n",
       "    </tr>\n",
       "  </thead>\n",
       "  <tbody>\n",
       "    <tr>\n",
       "      <th>0</th>\n",
       "      <td>Equatorial Diameter:</td>\n",
       "      <td>6,792 km\\n</td>\n",
       "    </tr>\n",
       "    <tr>\n",
       "      <th>1</th>\n",
       "      <td>Polar Diameter:</td>\n",
       "      <td>6,752 km\\n</td>\n",
       "    </tr>\n",
       "    <tr>\n",
       "      <th>2</th>\n",
       "      <td>Mass:</td>\n",
       "      <td>6.42 x 10^23 kg (10.7% Earth)</td>\n",
       "    </tr>\n",
       "    <tr>\n",
       "      <th>3</th>\n",
       "      <td>Moons:</td>\n",
       "      <td>2 (Phobos &amp; Deimos)</td>\n",
       "    </tr>\n",
       "    <tr>\n",
       "      <th>4</th>\n",
       "      <td>Orbit Distance:</td>\n",
       "      <td>227,943,824 km (1.52 AU)</td>\n",
       "    </tr>\n",
       "  </tbody>\n",
       "</table>\n",
       "</div>"
      ],
      "text/plain": [
       "                                                 Value\n",
       "0  Equatorial Diameter:                     6,792 km\\n\n",
       "1       Polar Diameter:                     6,752 km\\n\n",
       "2                 Mass:  6.42 x 10^23 kg (10.7% Earth)\n",
       "3                Moons:            2 (Phobos & Deimos)\n",
       "4       Orbit Distance:       227,943,824 km (1.52 AU)"
      ]
     },
     "execution_count": 8,
     "metadata": {},
     "output_type": "execute_result"
    }
   ],
   "source": [
    "df = df.rename(columns={\"col1\": \"\", \"col2\": \"Value\"})\n",
    "df.head()"
   ]
  },
  {
   "cell_type": "code",
   "execution_count": 8,
   "metadata": {},
   "outputs": [
    {
     "name": "stdout",
     "output_type": "stream",
     "text": [
      "<div class=\"description\">\n",
      " <a class=\"itemLink product-item\" href=\"/search/map/Mars/Viking/cerberus_enhanced\">\n",
      "  <h3>\n",
      "   Cerberus Hemisphere Enhanced\n",
      "  </h3>\n",
      " </a>\n",
      " <span class=\"subtitle\" style=\"float:left\">\n",
      "  image/tiff 21 MB\n",
      " </span>\n",
      " <span class=\"pubDate\" style=\"float:right\">\n",
      " </span>\n",
      " <br/>\n",
      " <p>\n",
      "  Mosaic of the Cerberus hemisphere of Mars projected into point perspective, a view similar to that which one would see from a spacecraft. This mosaic is composed of 104 Viking Orbiter images acquired…\n",
      " </p>\n",
      "</div>\n",
      "\n",
      "<div class=\"description\">\n",
      " <a class=\"itemLink product-item\" href=\"/search/map/Mars/Viking/schiaparelli_enhanced\">\n",
      "  <h3>\n",
      "   Schiaparelli Hemisphere Enhanced\n",
      "  </h3>\n",
      " </a>\n",
      " <span class=\"subtitle\" style=\"float:left\">\n",
      "  image/tiff 35 MB\n",
      " </span>\n",
      " <span class=\"pubDate\" style=\"float:right\">\n",
      " </span>\n",
      " <br/>\n",
      " <p>\n",
      "  Mosaic of the Schiaparelli hemisphere of Mars projected into point perspective, a view similar to that which one would see from a spacecraft. The images were acquired in 1980 during early northern…\n",
      " </p>\n",
      "</div>\n",
      "\n",
      "<div class=\"description\">\n",
      " <a class=\"itemLink product-item\" href=\"/search/map/Mars/Viking/syrtis_major_enhanced\">\n",
      "  <h3>\n",
      "   Syrtis Major Hemisphere Enhanced\n",
      "  </h3>\n",
      " </a>\n",
      " <span class=\"subtitle\" style=\"float:left\">\n",
      "  image/tiff 25 MB\n",
      " </span>\n",
      " <span class=\"pubDate\" style=\"float:right\">\n",
      " </span>\n",
      " <br/>\n",
      " <p>\n",
      "  Mosaic of the Syrtis Major hemisphere of Mars projected into point perspective, a view similar to that which one would see from a spacecraft. This mosaic is composed of about 100 red and violet…\n",
      " </p>\n",
      "</div>\n",
      "\n",
      "<div class=\"description\">\n",
      " <a class=\"itemLink product-item\" href=\"/search/map/Mars/Viking/valles_marineris_enhanced\">\n",
      "  <h3>\n",
      "   Valles Marineris Hemisphere Enhanced\n",
      "  </h3>\n",
      " </a>\n",
      " <span class=\"subtitle\" style=\"float:left\">\n",
      "  image/tiff 27 MB\n",
      " </span>\n",
      " <span class=\"pubDate\" style=\"float:right\">\n",
      " </span>\n",
      " <br/>\n",
      " <p>\n",
      "  Mosaic of the Valles Marineris hemisphere of Mars projected into point perspective, a view similar to that which one would see from a spacecraft. The distance is 2500 kilometers from the surface of…\n",
      " </p>\n",
      "</div>\n",
      "\n"
     ]
    },
    {
     "data": {
      "text/plain": [
       "[None, None, None, None]"
      ]
     },
     "execution_count": 8,
     "metadata": {},
     "output_type": "execute_result"
    }
   ],
   "source": [
    "url = \"https://astrogeology.usgs.gov/search/results?q=hemisphere+enhanced&k1=target&v1=Mars\"\n",
    "browser = init_browser()\n",
    "browser.visit(url)\n",
    "\n",
    "time.sleep(1)\n",
    "\n",
    "    # Scrape page into Soup\n",
    "html = browser.html\n",
    "soup = bs(html, \"html.parser\") \n",
    "\n",
    "image = soup.find('div', class_='collapsible results')\n",
    "p1 = image.find_all('div', class_='description')\n",
    "[print(x.prettify()) for x in p1]\n"
   ]
  },
  {
   "cell_type": "code",
   "execution_count": 10,
   "metadata": {},
   "outputs": [
    {
     "name": "stdout",
     "output_type": "stream",
     "text": [
      "['Cerberus Hemisphere Enhanced', 'Schiaparelli Hemisphere Enhanced', 'Syrtis Major Hemisphere Enhanced', 'Valles Marineris Hemisphere Enhanced']\n"
     ]
    }
   ],
   "source": [
    "titles = image.find_all('h3')\n",
    "titles_list = [x.text for x in titles]\n",
    "\n",
    "\n",
    "\n",
    "print(titles_list)"
   ]
  },
  {
   "cell_type": "code",
   "execution_count": 13,
   "metadata": {},
   "outputs": [
    {
     "name": "stdout",
     "output_type": "stream",
     "text": [
      "['http://astropedia.astrogeology.usgs.gov/download/Mars/Viking/cerberus_enhanced.tif/full.jpg', 'http://astropedia.astrogeology.usgs.gov/download/Mars/Viking/schiaparelli_enhanced.tif/full.jpg', 'http://astropedia.astrogeology.usgs.gov/download/Mars/Viking/syrtis_major_enhanced.tif/full.jpg', 'http://astropedia.astrogeology.usgs.gov/download/Mars/Viking/valles_marineris_enhanced.tif/full.jpg']\n"
     ]
    }
   ],
   "source": [
    "links = []\n",
    "for x in p1:\n",
    "    links.append(\"https://astrogeology.usgs.gov\" +  x.find('a', class_='itemLink product-item')['href'])\n",
    "\n",
    "image_links = []\n",
    "\n",
    "for x in links:\n",
    "    browser = init_browser()\n",
    "    browser.visit(x)\n",
    "    time.sleep(1)\n",
    "    html = browser.html\n",
    "    soup1 = bs(html, \"html.parser\") \n",
    "    pic = soup1.find('div', class_='downloads')\n",
    "    imageurl = pic.find('a')['href']\n",
    "    image_links.append(imageurl)\n",
    "    \n",
    "    browser.quit()\n",
    "print(image_links)"
   ]
  },
  {
   "cell_type": "code",
   "execution_count": null,
   "metadata": {},
   "outputs": [],
   "source": [
    "#combine the two lists into a dictionary"
   ]
  },
  {
   "cell_type": "code",
   "execution_count": 19,
   "metadata": {},
   "outputs": [
    {
     "name": "stdout",
     "output_type": "stream",
     "text": [
      "{'title': 'Cerberus Hemisphere Enhanced', 'url': 'http://astropedia.astrogeology.usgs.gov/download/Mars/Viking/cerberus_enhanced.tif/full.jpg'}\n",
      "--------------------------------------\n",
      "{'title': 'Schiaparelli Hemisphere Enhanced', 'url': 'http://astropedia.astrogeology.usgs.gov/download/Mars/Viking/schiaparelli_enhanced.tif/full.jpg'}\n",
      "--------------------------------------\n",
      "{'title': 'Syrtis Major Hemisphere Enhanced', 'url': 'http://astropedia.astrogeology.usgs.gov/download/Mars/Viking/syrtis_major_enhanced.tif/full.jpg'}\n",
      "--------------------------------------\n",
      "{'title': 'Valles Marineris Hemisphere Enhanced', 'url': 'http://astropedia.astrogeology.usgs.gov/download/Mars/Viking/valles_marineris_enhanced.tif/full.jpg'}\n",
      "--------------------------------------\n"
     ]
    }
   ],
   "source": [
    "#make the dictionaries\n",
    "image1 = {\"title\":titles_list[0], \"url\": image_links[0]}\n",
    "image2 = {\"title\":titles_list[1], \"url\": image_links[1]}\n",
    "image3 = {\"title\":titles_list[2], \"url\": image_links[2]}\n",
    "image4 = {\"title\":titles_list[3], \"url\": image_links[3]}\n",
    "hemisphere_image_urls = [image1, image2, image3, image4]\n",
    "for x in hemisphere_image_urls:\n",
    "    print(x)\n",
    "    print('--------------------------------------')"
   ]
  }
 ],
 "metadata": {
  "kernelspec": {
   "display_name": "Python [conda env:myenv]",
   "language": "python",
   "name": "conda-env-myenv-py"
  },
  "language_info": {
   "codemirror_mode": {
    "name": "ipython",
    "version": 3
   },
   "file_extension": ".py",
   "mimetype": "text/x-python",
   "name": "python",
   "nbconvert_exporter": "python",
   "pygments_lexer": "ipython3",
   "version": "3.7.0"
  }
 },
 "nbformat": 4,
 "nbformat_minor": 2
}
